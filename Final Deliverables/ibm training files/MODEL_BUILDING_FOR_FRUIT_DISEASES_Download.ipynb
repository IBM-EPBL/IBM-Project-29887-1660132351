{
 "cells": [
  {
   "cell_type": "code",
   "execution_count": 1,
   "id": "45d6c9fe",
   "metadata": {},
   "outputs": [
    {
     "name": "stdout",
     "output_type": "stream",
     "text": [
      "Requirement already satisfied: ibm_watson_machine_learning in e:\\anaconda3\\lib\\site-packages (1.0.257)\n",
      "Requirement already satisfied: importlib-metadata in e:\\anaconda3\\lib\\site-packages (from ibm_watson_machine_learning) (4.11.3)\n",
      "Requirement already satisfied: tabulate in e:\\anaconda3\\lib\\site-packages (from ibm_watson_machine_learning) (0.8.10)\n",
      "Requirement already satisfied: urllib3 in e:\\anaconda3\\lib\\site-packages (from ibm_watson_machine_learning) (1.26.11)\n",
      "Requirement already satisfied: lomond in e:\\anaconda3\\lib\\site-packages (from ibm_watson_machine_learning) (0.3.3)\n",
      "Requirement already satisfied: packaging in e:\\anaconda3\\lib\\site-packages (from ibm_watson_machine_learning) (21.3)\n",
      "Requirement already satisfied: ibm-cos-sdk==2.11.* in e:\\anaconda3\\lib\\site-packages (from ibm_watson_machine_learning) (2.11.0)\n",
      "Requirement already satisfied: pandas<1.5.0,>=0.24.2 in e:\\anaconda3\\lib\\site-packages (from ibm_watson_machine_learning) (1.4.4)\n",
      "Requirement already satisfied: requests in e:\\anaconda3\\lib\\site-packages (from ibm_watson_machine_learning) (2.28.1)\n",
      "Requirement already satisfied: certifi in e:\\anaconda3\\lib\\site-packages (from ibm_watson_machine_learning) (2022.9.14)\n",
      "Requirement already satisfied: ibm-cos-sdk-core==2.11.0 in e:\\anaconda3\\lib\\site-packages (from ibm-cos-sdk==2.11.*->ibm_watson_machine_learning) (2.11.0)\n",
      "Requirement already satisfied: jmespath<1.0.0,>=0.7.1 in e:\\anaconda3\\lib\\site-packages (from ibm-cos-sdk==2.11.*->ibm_watson_machine_learning) (0.10.0)\n",
      "Requirement already satisfied: ibm-cos-sdk-s3transfer==2.11.0 in e:\\anaconda3\\lib\\site-packages (from ibm-cos-sdk==2.11.*->ibm_watson_machine_learning) (2.11.0)\n",
      "Requirement already satisfied: python-dateutil<3.0.0,>=2.1 in e:\\anaconda3\\lib\\site-packages (from ibm-cos-sdk-core==2.11.0->ibm-cos-sdk==2.11.*->ibm_watson_machine_learning) (2.8.2)\n",
      "Requirement already satisfied: pytz>=2020.1 in e:\\anaconda3\\lib\\site-packages (from pandas<1.5.0,>=0.24.2->ibm_watson_machine_learning) (2022.1)\n",
      "Requirement already satisfied: numpy>=1.18.5 in e:\\anaconda3\\lib\\site-packages (from pandas<1.5.0,>=0.24.2->ibm_watson_machine_learning) (1.21.5)\n",
      "Requirement already satisfied: charset-normalizer<3,>=2 in e:\\anaconda3\\lib\\site-packages (from requests->ibm_watson_machine_learning) (2.0.4)\n",
      "Requirement already satisfied: idna<4,>=2.5 in e:\\anaconda3\\lib\\site-packages (from requests->ibm_watson_machine_learning) (3.3)\n",
      "Requirement already satisfied: zipp>=0.5 in e:\\anaconda3\\lib\\site-packages (from importlib-metadata->ibm_watson_machine_learning) (3.8.0)\n",
      "Requirement already satisfied: six>=1.10.0 in e:\\anaconda3\\lib\\site-packages (from lomond->ibm_watson_machine_learning) (1.16.0)\n",
      "Requirement already satisfied: pyparsing!=3.0.5,>=2.0.2 in e:\\anaconda3\\lib\\site-packages (from packaging->ibm_watson_machine_learning) (3.0.9)\n"
     ]
    }
   ],
   "source": [
    "!pip install ibm_watson_machine_learning"
   ]
  },
  {
   "cell_type": "code",
   "execution_count": 2,
   "id": "654a5a66",
   "metadata": {},
   "outputs": [],
   "source": [
    "from ibm_watson_machine_learning import APIClient"
   ]
  },
  {
   "cell_type": "code",
   "execution_count": 3,
   "id": "315dfc6b",
   "metadata": {},
   "outputs": [],
   "source": [
    "wml_credentials={\n",
    "    \"url\":\"https://eu-de.ml.cloud.ibm.com\",\n",
    "    \"apikey\":\"VgBC5HkSt2zdeik53Dk3kyTWWfdfAEYdZcjnNjTgaTN0\"\n",
    "}"
   ]
  },
  {
   "cell_type": "code",
   "execution_count": 4,
   "id": "302c5707",
   "metadata": {},
   "outputs": [],
   "source": [
    "client = APIClient(wml_credentials)"
   ]
  },
  {
   "cell_type": "code",
   "execution_count": 5,
   "id": "86322048",
   "metadata": {},
   "outputs": [
    {
     "name": "stdout",
     "output_type": "stream",
     "text": [
      "Note: 'limit' is not provided. Only first 50 records will be displayed if the number of records exceed 50\n",
      "------------------------------------  -----  ------------------------\n",
      "ID                                    NAME   CREATED\n",
      "821a05a4-ed57-41a5-9f19-c84307840d1e  Fruit  2022-11-21T17:05:28.826Z\n",
      "d4b88527-72c1-4b12-962e-c6c28a6e5354  Veg    2022-11-20T19:31:57.323Z\n",
      "------------------------------------  -----  ------------------------\n"
     ]
    }
   ],
   "source": [
    "client.spaces.list()"
   ]
  },
  {
   "cell_type": "code",
   "execution_count": 6,
   "id": "58e42fad",
   "metadata": {},
   "outputs": [],
   "source": [
    "space_id=\"821a05a4-ed57-41a5-9f19-c84307840d1e\""
   ]
  },
  {
   "cell_type": "code",
   "execution_count": 7,
   "id": "4f145738",
   "metadata": {},
   "outputs": [
    {
     "data": {
      "text/plain": [
       "'SUCCESS'"
      ]
     },
     "execution_count": 7,
     "metadata": {},
     "output_type": "execute_result"
    }
   ],
   "source": [
    "client.set.default_space(space_id)"
   ]
  },
  {
   "cell_type": "code",
   "execution_count": 8,
   "id": "4c975462",
   "metadata": {},
   "outputs": [],
   "source": [
    "model_id = \"33664e2e-476f-44ab-b2e3-59adcf0a7454\""
   ]
  },
  {
   "cell_type": "code",
   "execution_count": null,
   "id": "dcb88879",
   "metadata": {},
   "outputs": [],
   "source": [
    "client.repository.download(model_id,\"FRUIT.tgz\")"
   ]
  },
  {
   "cell_type": "code",
   "execution_count": null,
   "id": "8e033703",
   "metadata": {},
   "outputs": [],
   "source": []
  }
 ],
 "metadata": {
  "kernelspec": {
   "display_name": "Python 3 (ipykernel)",
   "language": "python",
   "name": "python3"
  },
  "language_info": {
   "codemirror_mode": {
    "name": "ipython",
    "version": 3
   },
   "file_extension": ".py",
   "mimetype": "text/x-python",
   "name": "python",
   "nbconvert_exporter": "python",
   "pygments_lexer": "ipython3",
   "version": "3.9.13"
  }
 },
 "nbformat": 4,
 "nbformat_minor": 5
}
